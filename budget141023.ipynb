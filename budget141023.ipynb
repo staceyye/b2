{
 "cells": [
  {
   "cell_type": "code",
   "execution_count": 468,
   "metadata": {},
   "outputs": [],
   "source": [
    "import os \n",
    "import pandas as pd\n",
    "from pandas import ExcelWriter\n",
    "import matplotlib.pyplot as plt\n",
    "import re\n",
    "\n",
    "pd.set_option('display.max_columns',6)\n",
    "pd.set_option('display.max_rows', 10)\n",
    "path=\"C:\\\\Users\\\\yesta\\\\Desktop\"\n",
    "os.chdir(path)"
   ]
  },
  {
   "cell_type": "code",
   "execution_count": 469,
   "metadata": {},
   "outputs": [],
   "source": [
    "#df = pd.read_excel(\"budget copy.xlsx\", \"Sheet2\")\n",
    "\n",
    "df = pd.read_excel(\"budget14oct231.xlsx\", \"budget\")\n",
    "\n",
    "date_pattern = r'([0-9]{4}-[0-9]{2}-[0-9]{2})'\n",
    "row1 = df.iloc[:,0]\n",
    "#print(row1)"
   ]
  },
  {
   "cell_type": "code",
   "execution_count": null,
   "metadata": {},
   "outputs": [],
   "source": [
    "categories = df.iloc[1:13, 22:24]\n",
    "categories.columns = [\"expenses\", \"amount\"]\n",
    "categories[\"amount\"] = 2\n",
    "\n",
    "a = pd.DataFrame({\"expenses\": [\"Health\", \"Income\"], \"amount\": [1, 2]})\n",
    "\n",
    "print(categories, a)"
   ]
  },
  {
   "cell_type": "code",
   "execution_count": 470,
   "metadata": {},
   "outputs": [],
   "source": [
    "all_dates = {}\n",
    "\n",
    "first_date = str(df.columns.values[0])[:10]\n",
    "# print('asfaef', first_date)\n",
    "all_dates[0] = first_date\n",
    "\n",
    "i = 0\n",
    "j = 1\n",
    "for i in range(0, len(row1)):\n",
    "    date = re.search(date_pattern, str(row1[i]))\n",
    "   # print(date)\n",
    "    if date:\n",
    "       # print(date.group())\n",
    "        all_dates[j] = date.group()\n",
    "        j += 1\n",
    "\n",
    "#for thing in all_dates:\n",
    "#    print(thing, all_dates[thing])\n",
    "\n",
    "#print(len(row1))"
   ]
  },
  {
   "cell_type": "code",
   "execution_count": 471,
   "metadata": {},
   "outputs": [
    {
     "name": "stdout",
     "output_type": "stream",
     "text": [
      "{0: '2023-04-05', 1: '2023-04-19', 2: '2023-05-03', 3: '2023-05-17', 4: '2023-05-31', 5: '2023-06-14', 6: '2023-06-28', 7: '2023-07-12', 8: '2023-07-26', 9: '2023-08-09', 10: '2023-08-23', 11: '2023-09-06', 12: '2023-09-20', 13: '2023-10-04', 14: '2023-10-18', 15: '2023-11-01'}\n",
      "16\n",
      "508\n"
     ]
    }
   ],
   "source": [
    "cycle_dates = {int(k/2):v for (k,v) in all_dates.items() if k%2==0}\n",
    "print(cycle_dates)\n",
    "\n",
    "offset = 3\n",
    "total_cols = (len(df.columns)+1)\n",
    "df.drop(df.iloc[:, 1:total_cols:offset], axis=1, inplace=True)\n",
    "\n",
    "cycle = 30\n",
    "no_cycles = int(df.index[-1] / cycle)\n",
    "print(no_cycles)\n",
    "print(df.index[-1])"
   ]
  },
  {
   "cell_type": "code",
   "execution_count": 472,
   "metadata": {},
   "outputs": [],
   "source": [
    "def clean_df(df):\n",
    "    #remove all rows with no values\n",
    "    df = df.dropna(how=\"all\")\n",
    "   # print(df)\n",
    "\n",
    "    # get only expenses\n",
    "    df2 = df.iloc[:,0:total_cols:2]\n",
    "    #print(df2) \n",
    "\n",
    "    # get all expenses\n",
    "    df2 = df2.melt().drop('variable',axis=1).rename({\"value\": \"expense\"}, axis=1)\n",
    "    df2 = df2.dropna(how=\"all\")\n",
    "   # print(df2)\n",
    "\n",
    "\n",
    "    df4 = df.iloc[:,1:total_cols:2]\n",
    "    df5 = df4.melt().drop('variable',axis=1).rename({\"value\": \"amount\"}, axis=1)\n",
    "    df5 = df5.dropna(how=\"all\")\n",
    "   # print(df4)\n",
    "    #print(df5)\n",
    "\n",
    "   # print(df2)\n",
    "    df2[\"amount\"] = df5.abs()\n",
    "    df2.columns = [\"expense\", \"amount\"]\n",
    "\n",
    "    df2 = df2.groupby(\"expense\", as_index=False).sum()\n",
    "\n",
    "#    i = df2[(df2[\"expense\"] == \"Income\")]\n",
    "#    df2 = df2.drop(i.index, axis=0)\n",
    "\n",
    " #   df2 = df2.sort_values(by=[\"amount\"], ascending = False)\n",
    "\n",
    "    return df2\n",
    "\n",
    "df1 = df.iloc[0:cycle, :]\n",
    "df1 = df1.drop(REMOVE, axis=0)\n",
    "#print(df1)\n",
    "#clean_df(df1)"
   ]
  },
  {
   "cell_type": "code",
   "execution_count": 473,
   "metadata": {},
   "outputs": [],
   "source": [
    "\n",
    "def make_graph(df):\n",
    "    plot = df.plot.pie(y=\"amount\", labels=df[\"expense\"], autopct='%1.0f%%')\n",
    "   # plt.show()"
   ]
  },
  {
   "cell_type": "code",
   "execution_count": 474,
   "metadata": {},
   "outputs": [
    {
     "name": "stdout",
     "output_type": "stream",
     "text": [
      "   2023-04-05 00:00:00  Unnamed: 2 2023-04-06 00:00:00  ...  Unnamed: 21   \n",
      "0                  NaN    -1417.36                 NaN  ...          NaN  \\\n",
      "1           Eating out       47.00                 NaN  ...          NaN   \n",
      "2   Gifts/celebrations       42.16                 NaN  ...          NaN   \n",
      "3            Groceries        0.99                 NaN  ...          NaN   \n",
      "4                Other        2.00                 NaN  ...          NaN   \n",
      "..                 ...         ...                 ...  ...          ...   \n",
      "25                 NaN         NaN                 NaN  ...          NaN   \n",
      "26                 NaN         NaN                 NaN  ...          NaN   \n",
      "27        daily amount         NaN                 NaN  ...          NaN   \n",
      "28        cycle amount         NaN                 NaN  ...          NaN   \n",
      "29                 NaN         NaN                 NaN  ...          NaN   \n",
      "\n",
      "   Unnamed: 23  Unnamed: 24  \n",
      "0          NaN          NaN  \n",
      "1          NaN          NaN  \n",
      "2          NaN          NaN  \n",
      "3          NaN          NaN  \n",
      "4          NaN          NaN  \n",
      "..         ...          ...  \n",
      "25         NaN          NaN  \n",
      "26         NaN          NaN  \n",
      "27         NaN          NaN  \n",
      "28         NaN          NaN  \n",
      "29         NaN          NaN  \n",
      "\n",
      "[30 rows x 17 columns]\n",
      "2023-04-12 00:00:00\n"
     ]
    }
   ],
   "source": [
    "#print(df.iloc[0:cycle, :])\n",
    "REMOVE = [11, 15, 27, 28]\n",
    "#print(df.iloc[15, 0])"
   ]
  },
  {
   "cell_type": "code",
   "execution_count": 475,
   "metadata": {},
   "outputs": [],
   "source": [
    "df_dict = {}\n",
    "i = 0\n",
    "writer = pd.ExcelWriter(\"budget14oct231.xlsx\", engine = 'openpyxl', mode='a', if_sheet_exists='overlay')\n",
    "while (i < (no_cycles)):\n",
    "    df1 = df.iloc[0:cycle, :]\n",
    "    df1 = df1.drop(REMOVE, axis=0)\n",
    "  #  print(df1)\n",
    "    df1 = clean_df(df1)\n",
    "    df_dict[i] = df1\n",
    "   # print(df1)\n",
    "\n",
    "\n",
    "    df2 = pd.DataFrame({'expense': [cycle_dates[i]], 'amount': [0]})\n",
    "    df3 = pd.concat([df2, df1])\n",
    "  \n",
    "    df3.to_excel(writer, sheet_name = 'test50', startrow = i//4*15, startcol = i%4*3+3, index=False)\n",
    "  #  make_graph(df1)\n",
    "\n",
    "    df = df.tail(-32)\n",
    "    df.reset_index(drop=True, inplace=True)\n",
    "    \n",
    "    i = i + 1\n",
    "writer.close()"
   ]
  }
 ],
 "metadata": {
  "kernelspec": {
   "display_name": "Python 3",
   "language": "python",
   "name": "python3"
  },
  "language_info": {
   "codemirror_mode": {
    "name": "ipython",
    "version": 3
   },
   "file_extension": ".py",
   "mimetype": "text/x-python",
   "name": "python",
   "nbconvert_exporter": "python",
   "pygments_lexer": "ipython3",
   "version": "3.9.5"
  },
  "orig_nbformat": 4
 },
 "nbformat": 4,
 "nbformat_minor": 2
}
